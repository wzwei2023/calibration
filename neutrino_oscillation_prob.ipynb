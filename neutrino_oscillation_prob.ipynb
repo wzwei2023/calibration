{
 "cells": [
  {
   "cell_type": "code",
   "execution_count": 1,
   "id": "d840e89a",
   "metadata": {},
   "outputs": [],
   "source": [
    "import numpy as np\n",
    "import matplotlib.pyplot as plt\n",
    "import ipywidgets as widgets\n",
    "from IPython.display import display, clear_output\n"
   ]
  },
  {
   "cell_type": "code",
   "execution_count": 2,
   "id": "dabdf501",
   "metadata": {},
   "outputs": [
    {
     "data": {
      "application/vnd.jupyter.widget-view+json": {
       "model_id": "e7b3645560be407e84289a04d14b5500",
       "version_major": 2,
       "version_minor": 0
      },
      "text/plain": [
       "FloatSlider(value=1295000.0, description='Baseline', max=5000000.0, min=100000.0, step=5.0)"
      ]
     },
     "metadata": {},
     "output_type": "display_data"
    },
    {
     "data": {
      "application/vnd.jupyter.widget-view+json": {
       "model_id": "2998457474cc424abc78074db12bdd5c",
       "version_major": 2,
       "version_minor": 0
      },
      "text/plain": [
       "FloatSlider(value=6.283185307179586, description='Delta CP', max=6.283185307179586, min=-6.283185307179586)"
      ]
     },
     "metadata": {},
     "output_type": "display_data"
    },
    {
     "data": {
      "application/vnd.jupyter.widget-view+json": {
       "model_id": "f932a3ae4c6645f587fdd5132d2cd836",
       "version_major": 2,
       "version_minor": 0
      },
      "text/plain": [
       "Output()"
      ]
     },
     "metadata": {},
     "output_type": "display_data"
    }
   ],
   "source": [
    "# Define the appearance probability calculation function\n",
    "def calculate_appearance_probability(delta_CP, L, E):\n",
    "\n",
    "    # Define constants\n",
    "    GF = 1.1663787e-23  # Fermi constant [eV^-2]\n",
    "    delta_squared_mass21 = 7.53e-5 # eV^-2， ere, delta_mass21 represents delta_mass21**2\n",
    "    delta_squared_mass31= 2.525e-3\n",
    "    sin_squared_theta12 = 0.307\n",
    "    sin_squared_theta23 = 0.546 # normal ordering\n",
    "    #sin_squared_theta23 = 0.539 # inverted ordering\n",
    "    sin_squared_theta13 = 2.2e-2\n",
    "    #delta_CP = 0\n",
    "    Ne = 9e23\n",
    "    a = GF * Ne / np.sqrt(2)\n",
    "\n",
    "    # Define intermediate terms\n",
    "    delta_31 = delta_squared_mass31*L/(4*E*2e-7)  # Here, delta_mass31 represents delta_mass31**2\n",
    "    delta_21 = delta_squared_mass21*L/(4*E*2e-7) \n",
    "    sin_2theta13 = 2*np.sqrt(sin_squared_theta13)*np.sqrt(1-sin_squared_theta13)\n",
    "    sin_2theta23 = 2*np.sqrt(sin_squared_theta23)*np.sqrt(1-sin_squared_theta23)\n",
    "    sin_2theta12 = 2*np.sqrt(sin_squared_theta12)*np.sqrt(1-sin_squared_theta12)\n",
    "    term1 = np.sin(delta_31 - a * L*4e-10) / (delta_31 - a * L*4e-10)\n",
    "    term2 = np.sin(a*L*4e-10)/(a*L*4e-10)\n",
    "\n",
    "    print(delta_21)\n",
    "\n",
    "\n",
    "    # Calculate the appearance probability\n",
    "    P = (sin_squared_theta23 * (sin_2theta13**2) * (term1**2)*(delta_31**2)) + \\\n",
    "        (sin_2theta23 * sin_2theta13 * sin_2theta12 * term1 * delta_31 * term2 * delta_21 * np.cos(delta_31 + delta_CP)) + \\\n",
    "        ((1-sin_squared_theta23) * sin_2theta12* (term2**2) * (delta_21**2))\n",
    "\n",
    "    return P\n",
    "\n",
    "# Create a function to update and display the plot\n",
    "def update_plot(baseline, delta_CP):\n",
    "    energies = np.linspace(0.1e9, 3.5e9, 100)  # Energy values\n",
    "    probabilities = []\n",
    "\n",
    "    for energy in energies:\n",
    "        probability = calculate_appearance_probability(delta_CP, baseline, energy)\n",
    "        probabilities.append(probability)\n",
    "\n",
    "    plt.figure(figsize=(8, 5))\n",
    "    plt.plot(energies, probabilities, label=r'$\\nu_{e}$ appearance')\n",
    "    plt.title(f'Oscillation probability (L = {baseline/1000} km)')\n",
    "    plt.xlabel('Energy (GeV)')\n",
    "    plt.ylabel('Oscillation probability')\n",
    "    plt.legend()\n",
    "    plt.grid()\n",
    "    plt.show()\n",
    "\n",
    "# Define the baseline widget\n",
    "baseline_widget = widgets.FloatSlider(value=1.295e6, min=100e3, max=5000e3, step=5, description='Baseline')\n",
    "delta_CP_widget = widgets.FloatSlider(value=2*np.pi, min=-2*np.pi, max=2 * np.pi, step=0.1, description='Delta CP')\n",
    "\n",
    "# Create an interactive output for the plot\n",
    "out = widgets.interactive_output(update_plot, {\n",
    "    'baseline': baseline_widget, #This tells interactive_output that the value of baseline_widget should be passed to the \n",
    "                                 #update_plot function as the baseline parameter whenever it changes. \n",
    "    'delta_CP': delta_CP_widget\n",
    "})\n",
    "\n",
    "# Display the widgets and the output\n",
    "display(baseline_widget, delta_CP_widget, out)\n"
   ]
  }
 ],
 "metadata": {
  "kernelspec": {
   "display_name": "Python 3 (ipykernel)",
   "language": "python",
   "name": "python3"
  },
  "language_info": {
   "codemirror_mode": {
    "name": "ipython",
    "version": 3
   },
   "file_extension": ".py",
   "mimetype": "text/x-python",
   "name": "python",
   "nbconvert_exporter": "python",
   "pygments_lexer": "ipython3",
   "version": "3.10.6"
  }
 },
 "nbformat": 4,
 "nbformat_minor": 5
}
